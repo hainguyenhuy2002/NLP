{
  "cells": [
    {
      "cell_type": "code",
      "execution_count": 1,
      "metadata": {
        "colab": {
          "base_uri": "https://localhost:8080/"
        },
        "id": "Vk2zL33UHww5",
        "outputId": "34a8efe7-2ee0-4f10-a543-45fd77c604ab"
      },
      "outputs": [
        {
          "output_type": "stream",
          "name": "stdout",
          "text": [
            "Drive already mounted at /content/drive; to attempt to forcibly remount, call drive.mount(\"/content/drive\", force_remount=True).\n"
          ]
        }
      ],
      "source": [
        "from google.colab import drive\n",
        "drive.mount('/content/drive')"
      ]
    },
    {
      "cell_type": "code",
      "source": [
        "pip install vietnam-number underthesea"
      ],
      "metadata": {
        "colab": {
          "base_uri": "https://localhost:8080/"
        },
        "id": "4Yb42WArvjiN",
        "outputId": "7d967649-eeb7-40cc-d844-974ca08aac1a"
      },
      "execution_count": 2,
      "outputs": [
        {
          "output_type": "stream",
          "name": "stdout",
          "text": [
            "Looking in indexes: https://pypi.org/simple, https://us-python.pkg.dev/colab-wheels/public/simple/\n",
            "Requirement already satisfied: vietnam-number in /usr/local/lib/python3.10/dist-packages (1.0.3)\n",
            "Requirement already satisfied: underthesea in /usr/local/lib/python3.10/dist-packages (6.2.0)\n",
            "Requirement already satisfied: Click>=6.0 in /usr/local/lib/python3.10/dist-packages (from underthesea) (8.1.3)\n",
            "Requirement already satisfied: python-crfsuite>=0.9.6 in /usr/local/lib/python3.10/dist-packages (from underthesea) (0.9.9)\n",
            "Requirement already satisfied: nltk in /usr/local/lib/python3.10/dist-packages (from underthesea) (3.8.1)\n",
            "Requirement already satisfied: tqdm in /usr/local/lib/python3.10/dist-packages (from underthesea) (4.65.0)\n",
            "Requirement already satisfied: requests in /usr/local/lib/python3.10/dist-packages (from underthesea) (2.27.1)\n",
            "Requirement already satisfied: joblib in /usr/local/lib/python3.10/dist-packages (from underthesea) (1.2.0)\n",
            "Requirement already satisfied: scikit-learn in /usr/local/lib/python3.10/dist-packages (from underthesea) (1.2.2)\n",
            "Requirement already satisfied: PyYAML in /usr/local/lib/python3.10/dist-packages (from underthesea) (6.0)\n",
            "Requirement already satisfied: underthesea-core==1.0.0 in /usr/local/lib/python3.10/dist-packages (from underthesea) (1.0.0)\n",
            "Requirement already satisfied: regex>=2021.8.3 in /usr/local/lib/python3.10/dist-packages (from nltk->underthesea) (2022.10.31)\n",
            "Requirement already satisfied: urllib3<1.27,>=1.21.1 in /usr/local/lib/python3.10/dist-packages (from requests->underthesea) (1.26.15)\n",
            "Requirement already satisfied: certifi>=2017.4.17 in /usr/local/lib/python3.10/dist-packages (from requests->underthesea) (2022.12.7)\n",
            "Requirement already satisfied: charset-normalizer~=2.0.0 in /usr/local/lib/python3.10/dist-packages (from requests->underthesea) (2.0.12)\n",
            "Requirement already satisfied: idna<4,>=2.5 in /usr/local/lib/python3.10/dist-packages (from requests->underthesea) (3.4)\n",
            "Requirement already satisfied: numpy>=1.17.3 in /usr/local/lib/python3.10/dist-packages (from scikit-learn->underthesea) (1.22.4)\n",
            "Requirement already satisfied: scipy>=1.3.2 in /usr/local/lib/python3.10/dist-packages (from scikit-learn->underthesea) (1.10.1)\n",
            "Requirement already satisfied: threadpoolctl>=2.0.0 in /usr/local/lib/python3.10/dist-packages (from scikit-learn->underthesea) (3.1.0)\n"
          ]
        }
      ]
    },
    {
      "cell_type": "code",
      "execution_count": 3,
      "metadata": {
        "id": "EyJ9pawPH9SX"
      },
      "outputs": [],
      "source": [
        "import pandas as pd\n",
        "import numpy as np\n",
        "import matplotlib.pyplot as plt\n",
        "import seaborn as sns\n",
        "import string\n",
        "import re\n",
        "from tqdm import tqdm\n",
        "import random\n",
        "from vietnam_number import n2w\n",
        "import underthesea"
      ]
    },
    {
      "cell_type": "code",
      "execution_count": 4,
      "metadata": {
        "colab": {
          "base_uri": "https://localhost:8080/",
          "height": 204
        },
        "id": "YcUxLV4qJMeY",
        "outputId": "b1dad1d8-ae27-49b0-f306-14cd0e269cae"
      },
      "outputs": [
        {
          "output_type": "execute_result",
          "data": {
            "text/plain": [
              "                                            original  \\\n",
              "0  Uỷ_ban Kiểm_tra Huyện_uỷ Tân_Kỳ ( Nghệ_An ) đã...   \n",
              "1  Thủ_tướng Đức Angela_Merkel thăm đơn_vị của NA...   \n",
              "2  Cánh sát khống_chế ngọn lửa . Tối 19/9 , Công_...   \n",
              "3  Hiệp_định TPP được ký_kết TPP được ký_kết là m...   \n",
              "4  Thủ_tướng ghi_nhận Bộ Văn_hoá , thể_thao và du...   \n",
              "\n",
              "                                             summary  \n",
              "0  Uỷ_ban Kiểm_tra Huyện_uỷ xác_định do uống nhiề...  \n",
              "1  Các phóng_viên được cho là có hành_động đáng n...  \n",
              "2  1.500 học_sinh ở Cái_Bè ( Tiền_Giang ) phải sơ...  \n",
              "3  2015 trôi qua với nhiều biến_động trong lĩnh_v...  \n",
              "4  Văn_phòng Chính_phủ vừa thông_báo kết_luận của...  "
            ],
            "text/html": [
              "\n",
              "  <div id=\"df-b1b87884-dc74-4f1d-88c0-c2f7252aeb12\">\n",
              "    <div class=\"colab-df-container\">\n",
              "      <div>\n",
              "<style scoped>\n",
              "    .dataframe tbody tr th:only-of-type {\n",
              "        vertical-align: middle;\n",
              "    }\n",
              "\n",
              "    .dataframe tbody tr th {\n",
              "        vertical-align: top;\n",
              "    }\n",
              "\n",
              "    .dataframe thead th {\n",
              "        text-align: right;\n",
              "    }\n",
              "</style>\n",
              "<table border=\"1\" class=\"dataframe\">\n",
              "  <thead>\n",
              "    <tr style=\"text-align: right;\">\n",
              "      <th></th>\n",
              "      <th>original</th>\n",
              "      <th>summary</th>\n",
              "    </tr>\n",
              "  </thead>\n",
              "  <tbody>\n",
              "    <tr>\n",
              "      <th>0</th>\n",
              "      <td>Uỷ_ban Kiểm_tra Huyện_uỷ Tân_Kỳ ( Nghệ_An ) đã...</td>\n",
              "      <td>Uỷ_ban Kiểm_tra Huyện_uỷ xác_định do uống nhiề...</td>\n",
              "    </tr>\n",
              "    <tr>\n",
              "      <th>1</th>\n",
              "      <td>Thủ_tướng Đức Angela_Merkel thăm đơn_vị của NA...</td>\n",
              "      <td>Các phóng_viên được cho là có hành_động đáng n...</td>\n",
              "    </tr>\n",
              "    <tr>\n",
              "      <th>2</th>\n",
              "      <td>Cánh sát khống_chế ngọn lửa . Tối 19/9 , Công_...</td>\n",
              "      <td>1.500 học_sinh ở Cái_Bè ( Tiền_Giang ) phải sơ...</td>\n",
              "    </tr>\n",
              "    <tr>\n",
              "      <th>3</th>\n",
              "      <td>Hiệp_định TPP được ký_kết TPP được ký_kết là m...</td>\n",
              "      <td>2015 trôi qua với nhiều biến_động trong lĩnh_v...</td>\n",
              "    </tr>\n",
              "    <tr>\n",
              "      <th>4</th>\n",
              "      <td>Thủ_tướng ghi_nhận Bộ Văn_hoá , thể_thao và du...</td>\n",
              "      <td>Văn_phòng Chính_phủ vừa thông_báo kết_luận của...</td>\n",
              "    </tr>\n",
              "  </tbody>\n",
              "</table>\n",
              "</div>\n",
              "      <button class=\"colab-df-convert\" onclick=\"convertToInteractive('df-b1b87884-dc74-4f1d-88c0-c2f7252aeb12')\"\n",
              "              title=\"Convert this dataframe to an interactive table.\"\n",
              "              style=\"display:none;\">\n",
              "        \n",
              "  <svg xmlns=\"http://www.w3.org/2000/svg\" height=\"24px\"viewBox=\"0 0 24 24\"\n",
              "       width=\"24px\">\n",
              "    <path d=\"M0 0h24v24H0V0z\" fill=\"none\"/>\n",
              "    <path d=\"M18.56 5.44l.94 2.06.94-2.06 2.06-.94-2.06-.94-.94-2.06-.94 2.06-2.06.94zm-11 1L8.5 8.5l.94-2.06 2.06-.94-2.06-.94L8.5 2.5l-.94 2.06-2.06.94zm10 10l.94 2.06.94-2.06 2.06-.94-2.06-.94-.94-2.06-.94 2.06-2.06.94z\"/><path d=\"M17.41 7.96l-1.37-1.37c-.4-.4-.92-.59-1.43-.59-.52 0-1.04.2-1.43.59L10.3 9.45l-7.72 7.72c-.78.78-.78 2.05 0 2.83L4 21.41c.39.39.9.59 1.41.59.51 0 1.02-.2 1.41-.59l7.78-7.78 2.81-2.81c.8-.78.8-2.07 0-2.86zM5.41 20L4 18.59l7.72-7.72 1.47 1.35L5.41 20z\"/>\n",
              "  </svg>\n",
              "      </button>\n",
              "      \n",
              "  <style>\n",
              "    .colab-df-container {\n",
              "      display:flex;\n",
              "      flex-wrap:wrap;\n",
              "      gap: 12px;\n",
              "    }\n",
              "\n",
              "    .colab-df-convert {\n",
              "      background-color: #E8F0FE;\n",
              "      border: none;\n",
              "      border-radius: 50%;\n",
              "      cursor: pointer;\n",
              "      display: none;\n",
              "      fill: #1967D2;\n",
              "      height: 32px;\n",
              "      padding: 0 0 0 0;\n",
              "      width: 32px;\n",
              "    }\n",
              "\n",
              "    .colab-df-convert:hover {\n",
              "      background-color: #E2EBFA;\n",
              "      box-shadow: 0px 1px 2px rgba(60, 64, 67, 0.3), 0px 1px 3px 1px rgba(60, 64, 67, 0.15);\n",
              "      fill: #174EA6;\n",
              "    }\n",
              "\n",
              "    [theme=dark] .colab-df-convert {\n",
              "      background-color: #3B4455;\n",
              "      fill: #D2E3FC;\n",
              "    }\n",
              "\n",
              "    [theme=dark] .colab-df-convert:hover {\n",
              "      background-color: #434B5C;\n",
              "      box-shadow: 0px 1px 3px 1px rgba(0, 0, 0, 0.15);\n",
              "      filter: drop-shadow(0px 1px 2px rgba(0, 0, 0, 0.3));\n",
              "      fill: #FFFFFF;\n",
              "    }\n",
              "  </style>\n",
              "\n",
              "      <script>\n",
              "        const buttonEl =\n",
              "          document.querySelector('#df-b1b87884-dc74-4f1d-88c0-c2f7252aeb12 button.colab-df-convert');\n",
              "        buttonEl.style.display =\n",
              "          google.colab.kernel.accessAllowed ? 'block' : 'none';\n",
              "\n",
              "        async function convertToInteractive(key) {\n",
              "          const element = document.querySelector('#df-b1b87884-dc74-4f1d-88c0-c2f7252aeb12');\n",
              "          const dataTable =\n",
              "            await google.colab.kernel.invokeFunction('convertToInteractive',\n",
              "                                                     [key], {});\n",
              "          if (!dataTable) return;\n",
              "\n",
              "          const docLinkHtml = 'Like what you see? Visit the ' +\n",
              "            '<a target=\"_blank\" href=https://colab.research.google.com/notebooks/data_table.ipynb>data table notebook</a>'\n",
              "            + ' to learn more about interactive tables.';\n",
              "          element.innerHTML = '';\n",
              "          dataTable['output_type'] = 'display_data';\n",
              "          await google.colab.output.renderOutput(dataTable, element);\n",
              "          const docLink = document.createElement('div');\n",
              "          docLink.innerHTML = docLinkHtml;\n",
              "          element.appendChild(docLink);\n",
              "        }\n",
              "      </script>\n",
              "    </div>\n",
              "  </div>\n",
              "  "
            ]
          },
          "metadata": {},
          "execution_count": 4
        }
      ],
      "source": [
        "df1 = pd.read_csv(\"/content/drive/MyDrive/NLP/Dataset/vietnews_val.csv\").drop([\"Unnamed: 0\", \"file\"], axis=1)\n",
        "df1.head()"
      ]
    },
    {
      "cell_type": "code",
      "execution_count": 5,
      "metadata": {
        "colab": {
          "base_uri": "https://localhost:8080/"
        },
        "id": "_1DKNDcPMTiT",
        "outputId": "a7c9f9ae-ca9e-44a5-d83b-f3801e368ed5"
      },
      "outputs": [
        {
          "output_type": "execute_result",
          "data": {
            "text/plain": [
              "(22642, 2)"
            ]
          },
          "metadata": {},
          "execution_count": 5
        }
      ],
      "source": [
        "df = df1\n",
        "df.shape"
      ]
    },
    {
      "cell_type": "code",
      "execution_count": 6,
      "metadata": {
        "colab": {
          "base_uri": "https://localhost:8080/"
        },
        "id": "CllHONt6LoR5",
        "outputId": "0b66fe29-15cd-481a-e0f0-d68fe240339d"
      },
      "outputs": [
        {
          "output_type": "execute_result",
          "data": {
            "text/plain": [
              "False"
            ]
          },
          "metadata": {},
          "execution_count": 6
        }
      ],
      "source": [
        "df.isnull().values.any()"
      ]
    },
    {
      "cell_type": "code",
      "execution_count": 7,
      "metadata": {
        "colab": {
          "base_uri": "https://localhost:8080/",
          "height": 173
        },
        "id": "0hlixHfbJ5Rb",
        "outputId": "5c80de4d-f00d-4463-ee3a-35996af2b593"
      },
      "outputs": [
        {
          "output_type": "execute_result",
          "data": {
            "text/plain": [
              "                                                 original  \\\n",
              "count                                               22642   \n",
              "unique                                              22496   \n",
              "top     \" Đại_diện cho 8 thế_hệ trong gia_đình tôi , n...   \n",
              "freq                                                    3   \n",
              "\n",
              "                                                  summary  \n",
              "count                                               22642  \n",
              "unique                                              22493  \n",
              "top     Lứa sinh_viên sắp tốt_nghiệp ở Trường cao_đẳng...  \n",
              "freq                                                    3  "
            ],
            "text/html": [
              "\n",
              "  <div id=\"df-04c2cede-ea5d-4b35-a690-6213ceb91e1d\">\n",
              "    <div class=\"colab-df-container\">\n",
              "      <div>\n",
              "<style scoped>\n",
              "    .dataframe tbody tr th:only-of-type {\n",
              "        vertical-align: middle;\n",
              "    }\n",
              "\n",
              "    .dataframe tbody tr th {\n",
              "        vertical-align: top;\n",
              "    }\n",
              "\n",
              "    .dataframe thead th {\n",
              "        text-align: right;\n",
              "    }\n",
              "</style>\n",
              "<table border=\"1\" class=\"dataframe\">\n",
              "  <thead>\n",
              "    <tr style=\"text-align: right;\">\n",
              "      <th></th>\n",
              "      <th>original</th>\n",
              "      <th>summary</th>\n",
              "    </tr>\n",
              "  </thead>\n",
              "  <tbody>\n",
              "    <tr>\n",
              "      <th>count</th>\n",
              "      <td>22642</td>\n",
              "      <td>22642</td>\n",
              "    </tr>\n",
              "    <tr>\n",
              "      <th>unique</th>\n",
              "      <td>22496</td>\n",
              "      <td>22493</td>\n",
              "    </tr>\n",
              "    <tr>\n",
              "      <th>top</th>\n",
              "      <td>\" Đại_diện cho 8 thế_hệ trong gia_đình tôi , n...</td>\n",
              "      <td>Lứa sinh_viên sắp tốt_nghiệp ở Trường cao_đẳng...</td>\n",
              "    </tr>\n",
              "    <tr>\n",
              "      <th>freq</th>\n",
              "      <td>3</td>\n",
              "      <td>3</td>\n",
              "    </tr>\n",
              "  </tbody>\n",
              "</table>\n",
              "</div>\n",
              "      <button class=\"colab-df-convert\" onclick=\"convertToInteractive('df-04c2cede-ea5d-4b35-a690-6213ceb91e1d')\"\n",
              "              title=\"Convert this dataframe to an interactive table.\"\n",
              "              style=\"display:none;\">\n",
              "        \n",
              "  <svg xmlns=\"http://www.w3.org/2000/svg\" height=\"24px\"viewBox=\"0 0 24 24\"\n",
              "       width=\"24px\">\n",
              "    <path d=\"M0 0h24v24H0V0z\" fill=\"none\"/>\n",
              "    <path d=\"M18.56 5.44l.94 2.06.94-2.06 2.06-.94-2.06-.94-.94-2.06-.94 2.06-2.06.94zm-11 1L8.5 8.5l.94-2.06 2.06-.94-2.06-.94L8.5 2.5l-.94 2.06-2.06.94zm10 10l.94 2.06.94-2.06 2.06-.94-2.06-.94-.94-2.06-.94 2.06-2.06.94z\"/><path d=\"M17.41 7.96l-1.37-1.37c-.4-.4-.92-.59-1.43-.59-.52 0-1.04.2-1.43.59L10.3 9.45l-7.72 7.72c-.78.78-.78 2.05 0 2.83L4 21.41c.39.39.9.59 1.41.59.51 0 1.02-.2 1.41-.59l7.78-7.78 2.81-2.81c.8-.78.8-2.07 0-2.86zM5.41 20L4 18.59l7.72-7.72 1.47 1.35L5.41 20z\"/>\n",
              "  </svg>\n",
              "      </button>\n",
              "      \n",
              "  <style>\n",
              "    .colab-df-container {\n",
              "      display:flex;\n",
              "      flex-wrap:wrap;\n",
              "      gap: 12px;\n",
              "    }\n",
              "\n",
              "    .colab-df-convert {\n",
              "      background-color: #E8F0FE;\n",
              "      border: none;\n",
              "      border-radius: 50%;\n",
              "      cursor: pointer;\n",
              "      display: none;\n",
              "      fill: #1967D2;\n",
              "      height: 32px;\n",
              "      padding: 0 0 0 0;\n",
              "      width: 32px;\n",
              "    }\n",
              "\n",
              "    .colab-df-convert:hover {\n",
              "      background-color: #E2EBFA;\n",
              "      box-shadow: 0px 1px 2px rgba(60, 64, 67, 0.3), 0px 1px 3px 1px rgba(60, 64, 67, 0.15);\n",
              "      fill: #174EA6;\n",
              "    }\n",
              "\n",
              "    [theme=dark] .colab-df-convert {\n",
              "      background-color: #3B4455;\n",
              "      fill: #D2E3FC;\n",
              "    }\n",
              "\n",
              "    [theme=dark] .colab-df-convert:hover {\n",
              "      background-color: #434B5C;\n",
              "      box-shadow: 0px 1px 3px 1px rgba(0, 0, 0, 0.15);\n",
              "      filter: drop-shadow(0px 1px 2px rgba(0, 0, 0, 0.3));\n",
              "      fill: #FFFFFF;\n",
              "    }\n",
              "  </style>\n",
              "\n",
              "      <script>\n",
              "        const buttonEl =\n",
              "          document.querySelector('#df-04c2cede-ea5d-4b35-a690-6213ceb91e1d button.colab-df-convert');\n",
              "        buttonEl.style.display =\n",
              "          google.colab.kernel.accessAllowed ? 'block' : 'none';\n",
              "\n",
              "        async function convertToInteractive(key) {\n",
              "          const element = document.querySelector('#df-04c2cede-ea5d-4b35-a690-6213ceb91e1d');\n",
              "          const dataTable =\n",
              "            await google.colab.kernel.invokeFunction('convertToInteractive',\n",
              "                                                     [key], {});\n",
              "          if (!dataTable) return;\n",
              "\n",
              "          const docLinkHtml = 'Like what you see? Visit the ' +\n",
              "            '<a target=\"_blank\" href=https://colab.research.google.com/notebooks/data_table.ipynb>data table notebook</a>'\n",
              "            + ' to learn more about interactive tables.';\n",
              "          element.innerHTML = '';\n",
              "          dataTable['output_type'] = 'display_data';\n",
              "          await google.colab.output.renderOutput(dataTable, element);\n",
              "          const docLink = document.createElement('div');\n",
              "          docLink.innerHTML = docLinkHtml;\n",
              "          element.appendChild(docLink);\n",
              "        }\n",
              "      </script>\n",
              "    </div>\n",
              "  </div>\n",
              "  "
            ]
          },
          "metadata": {},
          "execution_count": 7
        }
      ],
      "source": [
        "df.describe()"
      ]
    },
    {
      "cell_type": "code",
      "execution_count": 8,
      "metadata": {
        "colab": {
          "base_uri": "https://localhost:8080/"
        },
        "id": "3wM_XaJDN6_4",
        "outputId": "6a8b813d-a6be-49d5-92ef-48c4991d0486"
      },
      "outputs": [
        {
          "output_type": "stream",
          "name": "stdout",
          "text": [
            "Chiến_thắng khó_khăn Hai tháng không kích dữ_dội của lực_lượng Chính_phủ Syria và Nga đã không mang lại sự tiến_bộ lớn nào ở Idlib , nơi được coi là thành_trì cuối_cùng của phe nổi_dậy và các nhóm khủng_bố , theo AP . Chiến_dịch tấn_công ở quy_mô nhỏ này đã phơi_bày giới_hạn sức_mạnh không_quân của Syria và Nga , khiến họ không_thể đạt được một chiến_thắng dứt_khoát trong cuộc nội_chiến kéo_dài suốt 8 năm qua . Với sự hỗ_trợ quân_sự quan_trọng từ Nga và Iran , quân_đội Syria trong vài năm qua đã chiếm lại hầu_hết các lãnh_thổ do phe đối_lập nắm giữ với các cuộc tấn_công và bao_vây kéo_dài . Ở mỗi nơi được giải_phóng , phiến quân hoặc đầu_hàng hoặc phải tháo_chạy đến Idlib , nơi các chiến_binh bị dồn vào chân tường không còn nơi nào để đi . Lựa_chọn cuối_cùng của phe đối_lập và các nhóm khủng_bố chỉ là chiến_đấu . Sam_Heller , một chuyên_gia nghiên_cứu về Syria thuộc International_Crisis_Group cho biết , “ phe đối_lập vũ_trang ở Idlib mặc_dù không_thể giành chiến_thắng trong trận chiến tại đây , nhưng các nhóm có_thể khiến cho chiến_thắng của quân_đội Syria phải trả cái giá nặng_nề , đến mức Damascus sẽ không chấp_nhận được ” . Về mặt chính_trị , Idlib phản_ánh sự giằng_co giữa các thế_lực quốc_tế khác nhau ủng_hộ cho hai bên trong cuộc xung_đột ở Syria . Lệnh ngừng_bắn được thiết_lập giữa Nga và Thổ_Nhĩ_Kỳ vào tháng 9 năm_ngoái có_thể coi là đã sụp_đổ vào ngày 30/4 khi quân Chính_phủ bắt_đầu tấn_công Idlib . Thổ_Nhĩ_Kỳ , nơi đã tiếp đón ba triệu người tị_nạn Syria , lo_ngại một cuộc tấn_công toàn_diện của quân Chính_phủ sẽ gây ra một làn_sóng người di_tản mới tiến về biên_giới nước này . Tuy_nhiên , Ankara không_thể hay như một_số ý_kiến cho_rằng - không muốn kiểm_soát - các phe nhóm ở Idlib như cam_kết với Nga . Đáng chú_ý , các chiến_binh được Iran hậu_thuẫn , bao_gồm các thành_viên của Hezbollah từng tham_gia các trận_chiến trước , đã không tham_gia vào cuộc_chiến giành Idlib , khi coi khu_vực này ở mức ưu_tiên thấp , không giống như các khu_vực chiến_lược tiếp_giáp với Iraq và Lebanon . Ngay cả Nga cũng không ném hết_sức mình vào cuộc_chiến và tiếp_tục thảo_luận với Thổ_Nhĩ_Kỳ về các cách để khôi_phục lệnh ngừng_bắn . Bế_tắc ở Idlib Thay_vì tấn_công toàn_diện để chiếm_lĩnh Idlib , quân_đội của Tổng_thống Assad đã giới_hạn cuộc tấn_công ở quy_mô hạn_chế , bên ngoài rìa tỉnh này , với mục_đích mở lại các tuyến đường_cao_tốc xuyên qua các khu_vực do phe nổi_dậy chiếm_giữ . Nhưng ngay khi hành_động hạn_chế như_vậy , nỗ_lực của Damascus đã tỏ ra vô_ích khi phiến quân chống_trả quyết_liệt . Lãnh_đạo cuộc tấn_công vào Idlib và các khu_vực phía Bắc của tỉnh Hama là Lực_lượng Hổ_Syria , do Chuẩn_tướng Suheil_Al_Hassan , một sĩ_quan Syria được Nga ủng_hộ và đã có được một_số chiến_thắng quan_trọng trong cuộc xung_đột kéo_dài 8 năm qua . Tuy_nhiên , vị tướng này đã không thành_công trong việc phá vỡ tuyến phòng_thủ của Idlib và vẫn bế_tắc , hãng thông_tấn AP nhận_định . Cuộc tấn_công Idlib bắt_đầu với việc lực_lượng Chính_phủ đánh chiếm hơn một chục ngôi làng , bao_gồm Qalaat_Al_Madiq và Kfar_Nabudah , được coi là tuyến phòng_thủ đầu_tiên của phiến quân Idlib . Kể từ đó , Kfar_Nabudah đã “ đổi chủ ” nhiều lần . Các chiến_binh nổi_dậy sau đó đã phát_động các cuộc tấn_công bất_ngờ chiếm các làng Madraset_Al_Dahra , Tel_Milh và Jubain . Quân Chính_phủ đã nhiều lần mở chiến_dịch chiếm lại khu_vực này nhưng đã không thành_công . Mohammed_Al_Ali , một nhà_báo ở tỉnh Idlib nói rằng , hai tháng sau cuộc tấn_công , quân Chính_phủ giờ chỉ kiểm_soát ngôi làng Qassabiyeh ở Idlib cũng như vài chục ngôi làng ở phía Bắc tỉnh Hama và thị_trấn Qalaat_Al_Madiq . Ali cho biết , một trong những thành_công lớn nhất của quân nổi_dậy là mở ra mặt_trận mới , trong đó các nhóm này đã cắt một con đường chính nối giữa thành_phố trung_tâm Hama với những ngôi làng do Chính_phủ nắm giữ ở rìa Idlib . “ Sự cố_thủ của phiến quân khiến quân_đội Syria không đạt được những tiến_bộ tương_tự như những gì họ đã làm lúc đầu ” , người này cho biết . Ông nói rằng tên_lửa chống tăng là chìa_khoá trong việc_làm chậm cuộc tấn_công của Damascus . Trận chiến có_thể kéo_dài trong nhiều tháng và gia_tăng thương_vong trừ khi Thổ_Nhĩ_Kỳ , Iran và Nga đạt được thoả_thuận mới trong khu_vực tương_tự như lệnh ngừng_bắn năm_ngoái . Sự bế_tắc hiện_tại có_thể khuyến_khích Nga muốn đạt được thoả_thuận như_vậy với Thổ_Nhĩ_Kỳ . Người_phát_ngôn của Tổng_thống Thổ_Nhĩ_Kỳ Ibrahim_Kalin cho biết , Ankara đang lên kế_hoạch tổ_chức một hội_nghị thượng_đỉnh giữa các nhà_lãnh_đạo của ba quốc_gia vào tháng 8 để thảo_luận về Syria , chủ_yếu là tình_hình Idlib . “ Quân_đội Syria dù không có khả_năng tạo ra nhiều tiến_bộ hơn ở Idlib nhưng nó không có nghĩa_là cuối_cùng họ không_thể đạt được chiến_thắng trên toàn_bộ đất_nước ” , chuyên_gia Heller nhấn_mạnh . “ Tuy_nhiên , điều đó cho thấy chiến_thắng quân_sự của Damascus phụ_thuộc vào tiến_trình chính_trị nhiều hơn ” .  Quân_đội Syria không đạt được bước_tiến lớn trong hai tháng qua ở Idlib . Idlib là thành_trì cuối_cùng của phe đối_lập và khủng_bố . \n",
            "Tại phiên họp thứ 47 chiều 25/4 , các uỷ_viên thường_vụ Quốc_hội đánh_giá kết_quả kỳ họp thứ 11 , Quốc_hội khoá 13 và cho ý_kiến chuẩn_bị kỳ họp thứ nhất , Quốc_hội khoá 14 . Chủ_tịch Nguyễn_Thị_Kim_Ngân phát_biểu tại phiên họp thứ 47 của Uỷ_ban thường_vụ Quốc_hội . Tổng_Thư_ký Quốc_hội Nguyễn_Hạnh_Phúc cho biết , dự_kiến kỳ đầu_tiên của khoá mới diễn ra trong 15 ngày và một ngày dự_phòng . Phiên khai_mạc sẽ vào 20/7 và bế_mạc ngày 9/8 . Kỳ họp sẽ nghe phát_biểu của Tổng_Bí_thư ; Hội_đồng Bầu_cử quốc_gia báo_cáo tổng_kết cuộc bầu_cử đại_biểu Quốc_hội khoá XIV và đại_biểu Hội_đồng_nhân_dân các cấp nhiệm_kỳ 2016-2021 và kết_quả xác_nhận tư_cách đại_biểu Quốc_hội được bầu . Quốc_hội sẽ dành 11 ngày để xem_xét , quyết_định về tổ_chức , nhân_sự cấp cao của nhà_nước . Cụ_thể là Bầu Chủ_tịch Quốc_hội , các Phó chủ_tịch Quốc_hội , Chủ_tịch nước , Thủ_tướng , Chánh_án TAND Tối_cao , Viện_trưởng VKSND Tối_cao ... Đánh_giá về kỳ họp vừa_qua , Chủ_tịch Hội_đồng Dân_tộc Hà_Ngọc_Chiến cho_rằng vấn_đề nhân_sự là một bài_học kinh_nghiệm quý_báu cho khoá sau . Theo ông , thời_gian tiến_hành tổ_chức Đại_hội Đảng toàn_quốc và kỳ họp Quốc_hội phải làm sát nhau hơn . Nếu để đến tháng ba Quốc_hội mới họp kiện_toàn nhân_sự như vừa_qua , rồi đến tháng 7 tới lại làm nữa thì không hợp_lý . “ Hai kỳ họp Quốc_hội làm gần nhau quá thì không linh_thiêng lắm ” , ông Chiến nói . Đổi_mới tuyên_thệ Phó Chủ_tịch Quốc_hội Đỗ_Bá_Tỵ và Chủ_nhiệm Uỷ_ban Quốc_phòng An_ninh Võ_Trọng_Việt đều cho_rằng , nghi_thức tuyên_thệ ở kỳ họp vừa_qua chưa chặt_chẽ , đồng_bộ . Khi tuyên_thệ đoàn_Chủ_tịch và các đại_biểu Quốc_hội phía dưới đều ngồi , có người còn đứng dậy quay_phim , chụp ảnh rất lộn_xộn . \" Khi các tân lãnh_đạo tuyên_thệ thì Quốc_hội phải đồng_loạt đứng lên , xong rồi ngồi xuống mới đảm_bảo nghiêm_trang , thống_nhất \" , tướng Tỵ đề_xuất . Chủ_tịch Quốc_hội Nguyễn_Thị_Kim_Ngân cũng đề_nghị phải nghiên_cứu nghi_thức tiến_hành tuyên_thệ . \" Các nước tuyên_thệ chỉ có 36 từ , rất ngắn và có đại_diện phía toà đứng bên làm_chứng , còn mình thì không có . Chúng_ta nên đồng_loạt đứng để chứng_kiến cho nghiêm_túc \" , bà Ngân nói . Tổng_thư_ký Nguyễn_Hạnh_Phúc giải_thích , nghi_thức tuyên_thệ là việc_làm mới , nước_ngoài Chánh_án không tuyên_thệ , còn ở ta lại có . \" Đại_biểu Quốc_hội đứng lên nghe Chánh_án tuyên_thệ không phù_hợp lắm \" , ông nói . Tuy_nhiên , Tổng_thư_ký cũng cho_biết sẽ nghiên_cứu việc đại_biểu đồng_loạt đứng hay ngồi , cờ phía trước hay sau cho đồng_bộ để nghi_thức tuyên_thệ được trang_trọng nhất . Hoàng_Thuỳ   Chủ_tịch Nguyễn_Thị_Kim_Ngân phát_biểu tại phiên họp thứ 47 của Uỷ_ban thường_vụ Quốc_hội . \n",
            "Trong ngày khai_hội , từng đoàn người đổ về di_tích thắng_cảnh từ sáng sớm . Dòng người nối_đuôi nhau từ đường vào bến Đục , đền Trình dù tiết trời xuân đổ cơn mưa lớn . Năm nay , ban tổ_chức đã bố_trí 4.500 đò để phục_vụ lễ_hội , các đò được gắn biển số để ban quản_lý kiểm_soát , tránh tình_trạng các chủ đò chèo_kéo , chặt chém du_khách . Tuy_nhiên , nhiều đò vẫn chở quá số người quy_định . Lễ khai_hội chùa Hương năm nay được siết chặt để tránh tình_trạng tranh_giành cướp lộc như năm 2017 . Từ 8h sáng , các nhà_sư và ban tổ_chức kết thành hai dải vải ngăn_cách khu_vực làm lễ tránh tình_trạng chen_lấn . Ban tổ_chức cho biết , sau khi làm lễ không phát lộc như mọi năm tránh tình_trạng du_khách chen_lấn , xô_đẩy để cướp lộc . Sau nhiều năm tổ_chức , năm nay , lễ_hội đã có những chuyển_biến tích_cực : an_ninh trật_tự được đảm_bảo , bói_toán , cờ_bạc , trộm_cắp trong lễ_hội đã không còn . Lễ_hội chùa Hương 2018 là mốc quan_trọng kỷ_niệm 60 năm Bác_Hồ về thăm Di_tích thắng_cảnh Hương_Sơn và đón_nhận bằng công_nhận di_tích quốc_gia đặc_biệt .  Từng con đò chở du_khách nối_đuôi nhau vào chùa Hương - Ảnh : Hà_Thanh . Dâng hương khai_hội chùa Hương - Ảnh : Hà_Thanh . Dòng người chen_chân trong ngày khai_hội chùa Hương - ẢNH : Hà_Thanh \n",
            "Một robot phá mìn Uran -6 của Nga . \" Đơn_vị tên_lửa vùng Novosibirsk mới_đây sử_dụng robot điều_khiển_từ_xa mới nhất Listva để hộ_tống những tổ_hợp tên_lửa_đạn_đạo Yars diễn_tập tuần_tra chiến_đấu \" , TASS ngày 10/6 dẫn tuyên_bố của Bộ Quốc_phòng Nga . Theo một tình_huống diễn_tập , các nhóm bạo_loạn chôn 10 thiết_bị nổ điều_khiển_từ_xa dọc con đường hành_quân của đơn_vị tên_lửa Novosibirsk . Tuy_nhiên , robot Listva đã kịp_thời phát_hiện và kích nổ tất_cả những quả mìn từ khoảng_cách 50 m , trước khi những hệ_thống Yars đến gần . Robot_Listva được thiết_kế dành riêng cho lực_lượng tên_lửa chiến_lược Nga . Robot sử_dụng các bộ cảm_biến nhằm phát_hiện mìn và thiết_bị nổ làm bằng kim_loại và vô_hiệu_hoá chúng bằng bức_xạ điện_từ . Sóng_radio của robot có_thể phá_huỷ hệ_thống điện_tử của thiết_bị nổ hoặc kích nổ chúng từ khoảng_cách lên đến 100 m . Bộ Quốc_phòng Nga năm 2015 cũng thử_nghiệm loại robot có khả_năng nổ_súng ngăn_chặn mối đe_doạ để bảo_vệ các bãi phóng tên_lửa_đạn_đạo của quân_đội .   Một robot phá mìn Uran -6 của Nga . \n",
            "Khoảng 12h10 trưa 18/2 , xe_khách biển Đà_Nẵng do tài_xế Nguyễn_Văn_Thái ( 45 tuổi ) cầm lái chở theo đoàn 16 khách Hàn_Quốc đi trên đường tránh Nam_Hải_Vân theo hướng Đà_Nẵng ra Huế . Hiện_trường vụ tai_nạn . Khi đến cầu số 2 ( quận Liên_Chiểu , Đà_Nẵng ) xe_khách va_chạm với xe container biển TP HCM chạy chiều ngược_lại , do tài_xế Đăng_Quang_Thanh ( 58 tuổi , trú tỉnh Bình_Định ) điều_khiển . Cú đấu đầu khiến đầu xe_khách biến_dạng , 11 khách Hàn_Quốc bị_thương , trong đó 10 trường_hợp bị_thương nặng , được đưa đến Bệnh_viện Đa_khoa Đà_Nẵng ( cách hiện_trường 16 km ) cấp_cứu . Trung_tá Nguyễn_Ngọc_Rạng - Trưởng trạm CSGT cửa_ô Hoà_Hiệp ( Đà_Nẵng ) cho biết , hai xe đều hư_hỏng nên tuyến đường tránh bị ùn_tắc cục_bộ . Lực_lượng chức_năng đã nỗ_lực cứu_hộ và điều_tiết cho xe lưu_thông một làn . Nguyên_nhân tai_nạn đang được điều_tra .   Hiện_trường vụ tai_nạn . Phần đầu xe_khách bị hư_hỏng nặng . \n"
          ]
        }
      ],
      "source": [
        "for t in df['original'][50:55]:\n",
        "  print(t)"
      ]
    },
    {
      "cell_type": "code",
      "execution_count": 9,
      "metadata": {
        "colab": {
          "base_uri": "https://localhost:8080/"
        },
        "id": "-PqEszAjRtnu",
        "outputId": "ed2b9d10-fb35-449e-d696-5f38d1171f0f"
      },
      "outputs": [
        {
          "output_type": "stream",
          "name": "stdout",
          "text": [
            "Hai tháng không kích dữ_dội của lực_lượng Chính_phủ Syria và Nga đã không mang lại sự tiến_bộ lớn nào ở Idlib . Tình_hình hiện_tại đã phơi_bày giới_hạn sức_mạnh của Syria và Nga . \n",
            "Kỳ họp đầu_tiên Quốc_hội khoá 14 sẽ dành phần_lớn thời_gian bầu các chức_danh cấp cao như Chủ_tịch Quốc_hội , Chủ_tịch nước , Thủ_tướng ... \n",
            "Từ sáng sớm 21-2 , tức mùng 6 tết , khu di_tích danh_thắng Hương_Sơn , huyện Mỹ_Đức , Hà_Nội , chính_thức khai_hội với chủ_đề ' Lễ_hội kỷ_cương , văn_minh du_lịch ' . \n",
            "Robot Listva dùng bức_xạ điện_từ để phá_huỷ những thiết_bị nổ gài ven đường di_chuyển của các tổ_hợp tên_lửa_đạn_đạo Yars . \n",
            "Đang chạy trên đường tránh Nam_Hải_Vân , xe_khách chở đoàn khách Hàn_Quốc va_chạm mạnh với xe đầu kéo . \n"
          ]
        }
      ],
      "source": [
        "for t in df['summary'][50:55]:\n",
        "  print(t)"
      ]
    },
    {
      "cell_type": "markdown",
      "metadata": {
        "id": "ZdZ1UOsJV_6W"
      },
      "source": [
        "# cleaning"
      ]
    },
    {
      "cell_type": "markdown",
      "metadata": {
        "id": "UKuIoCA5Wd1l"
      },
      "source": [
        "## lowering"
      ]
    },
    {
      "cell_type": "code",
      "execution_count": 10,
      "metadata": {
        "id": "xZRiLqJWMIgt"
      },
      "outputs": [],
      "source": [
        "df['original'] = df['original'].apply(lambda x: x.lower())\n",
        "df['summary'] = df['summary'].apply(lambda x: x.lower())"
      ]
    },
    {
      "cell_type": "markdown",
      "source": [
        "## number to text"
      ],
      "metadata": {
        "id": "o9Wu5y-0vxat"
      }
    },
    {
      "cell_type": "code",
      "source": [
        "def isValid(x):\n",
        "  try: \n",
        "    n2w(x)\n",
        "    return True\n",
        "  except:\n",
        "    return False"
      ],
      "metadata": {
        "id": "5uasrI0F5mzH"
      },
      "execution_count": 11,
      "outputs": []
    },
    {
      "cell_type": "code",
      "source": [
        "df['original'] = df['original'].apply(lambda x: ' '.join([n2w(w) if isValid(w) else w for w in x.split()]))\n",
        "df['summary'] = df['summary'].apply(lambda x: ' '.join([n2w(w) if isValid(w) else w for w in x.split()]))"
      ],
      "metadata": {
        "id": "nXWUkCgOvw3z"
      },
      "execution_count": 12,
      "outputs": []
    },
    {
      "cell_type": "markdown",
      "metadata": {
        "id": "zk2lN03SuS6-"
      },
      "source": [
        "## remove puncs"
      ]
    },
    {
      "cell_type": "code",
      "execution_count": 13,
      "metadata": {
        "id": "Tlm56i_GyAUT"
      },
      "outputs": [],
      "source": [
        "df['original'] = df['original'].apply(lambda x: re.sub(r'\\(.*\\)','',x))\n",
        "df['summary'] = df['summary'].apply(lambda x: re.sub(r'\\(.*\\)','',x))"
      ]
    },
    {
      "cell_type": "code",
      "execution_count": 14,
      "metadata": {
        "id": "XjaWWcrISC5N"
      },
      "outputs": [],
      "source": [
        "df['original'] = df['original'].apply(lambda x: re.sub(r'[^\\w\\s._]','',x))\n",
        "df['summary'] = df['summary'].apply(lambda x: re.sub(r'[^\\w\\s._]','',x))"
      ]
    },
    {
      "cell_type": "markdown",
      "source": [
        "## calculate max len"
      ],
      "metadata": {
        "id": "q81x4AM59vC7"
      }
    },
    {
      "cell_type": "code",
      "source": [
        "a = df['original'].apply(lambda x: len(x.split()))\n",
        "b = df['summary'].apply(lambda x: len(x.split()))"
      ],
      "metadata": {
        "id": "waDX3mmY9IBv"
      },
      "execution_count": 15,
      "outputs": []
    },
    {
      "cell_type": "code",
      "source": [
        "MAX_LENGTH_X = max(a.to_numpy())\n",
        "MAX_LENGTH_Y = max(b.to_numpy())"
      ],
      "metadata": {
        "id": "DG8wZKQR9XMJ"
      },
      "execution_count": 16,
      "outputs": []
    },
    {
      "cell_type": "code",
      "source": [
        "df.to_csv('/content/drive/MyDrive/processed_data_val.csv', index=False)"
      ],
      "metadata": {
        "id": "2wmOaZzSK8ph"
      },
      "execution_count": 17,
      "outputs": []
    },
    {
      "cell_type": "code",
      "source": [],
      "metadata": {
        "id": "LCFTEPayLMvq"
      },
      "execution_count": 17,
      "outputs": []
    }
  ],
  "metadata": {
    "colab": {
      "provenance": [],
      "gpuType": "T4"
    },
    "kernelspec": {
      "display_name": "Python 3",
      "name": "python3"
    },
    "language_info": {
      "name": "python"
    },
    "gpuClass": "standard"
  },
  "nbformat": 4,
  "nbformat_minor": 0
}