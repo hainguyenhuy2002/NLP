{
 "cells": [
  {
   "cell_type": "code",
   "execution_count": 1,
   "metadata": {},
   "outputs": [
    {
     "name": "stderr",
     "output_type": "stream",
     "text": [
      "/home/huynv/miniconda3/lib/python3.10/site-packages/tqdm/auto.py:21: TqdmWarning: IProgress not found. Please update jupyter and ipywidgets. See https://ipywidgets.readthedocs.io/en/stable/user_install.html\n",
      "  from .autonotebook import tqdm as notebook_tqdm\n"
     ]
    }
   ],
   "source": [
    "import pandas as pd\n",
    "from datasets import Dataset\n",
    "from transformers import AutoTokenizer, AutoModelForSeq2SeqLM, DataCollatorForSeq2Seq, Seq2SeqTrainer, TrainingArguments, Seq2SeqTrainingArguments, MBartForConditionalGeneration\n",
    "from tqdm.notebook import tqdm\n",
    "from torch.utils.data import DataLoader\n",
    "import torch, os"
   ]
  },
  {
   "cell_type": "code",
   "execution_count": 7,
   "metadata": {},
   "outputs": [
    {
     "name": "stdout",
     "output_type": "stream",
     "text": [
      "c:\\Users\\Huy\\GitHub\\NLP c:\\Users\\Huy\\GitHub\\NLP\\data c:\\Users\\Huy\\GitHub\\NLP\\checkpoint\n"
     ]
    }
   ],
   "source": [
    "project_folder = os.path.dirname(os.path.dirname(os.path.abspath(\"__file__\")))\n",
    "data_folder = os.path.join(project_folder, 'data')\n",
    "checkpoint_folder = os.path.join(project_folder, 'checkpoint')\n",
    "print(project_folder, data_folder, checkpoint_folder)"
   ]
  },
  {
   "cell_type": "code",
   "execution_count": 2,
   "metadata": {},
   "outputs": [],
   "source": [
    "device = torch.device('cuda' if torch.cuda.is_available() else 'cpu')"
   ]
  },
  {
   "cell_type": "code",
   "execution_count": 3,
   "metadata": {},
   "outputs": [],
   "source": [
    "tokenizer = AutoTokenizer.from_pretrained(\"vinai/bartpho-syllable\") \n",
    "model = AutoModelForSeq2SeqLM.from_pretrained(\"vinai/bartpho-syllable\").to(device)"
   ]
  },
  {
   "cell_type": "code",
   "execution_count": 5,
   "metadata": {},
   "outputs": [],
   "source": [
    "def preprocess_function(examples):\n",
    "    model_inputs = tokenizer(\n",
    "        examples[\"inputs\"], max_length=1024, truncation=True, padding=True\n",
    "    )\n",
    "    \n",
    "    with tokenizer.as_target_tokenizer():\n",
    "        labels = tokenizer(\n",
    "            examples[\"labels\"], max_length=256, truncation=True, padding=True\n",
    "        )\n",
    "    model_inputs['labels'] = labels['input_ids']\n",
    "    model_inputs['input_ids'] = model_inputs['input_ids']\n",
    "    return model_inputs"
   ]
  },
  {
   "cell_type": "code",
   "execution_count": 6,
   "metadata": {},
   "outputs": [],
   "source": [
    "df_train = pd.read_csv(os.path.join(data_folder, 'vietnews_train.csv'))[:25000]"
   ]
  },
  {
   "cell_type": "code",
   "execution_count": 7,
   "metadata": {},
   "outputs": [],
   "source": [
    "df_train = df_train[[\"original\", \"summary\"]]\n",
    "df_train.rename(columns = {'original':'inputs'}, inplace = True)\n",
    "df_train.rename(columns = {'summary':'labels'}, inplace = True)"
   ]
  },
  {
   "cell_type": "code",
   "execution_count": 8,
   "metadata": {},
   "outputs": [
    {
     "data": {
      "text/html": [
       "<div>\n",
       "<style scoped>\n",
       "    .dataframe tbody tr th:only-of-type {\n",
       "        vertical-align: middle;\n",
       "    }\n",
       "\n",
       "    .dataframe tbody tr th {\n",
       "        vertical-align: top;\n",
       "    }\n",
       "\n",
       "    .dataframe thead th {\n",
       "        text-align: right;\n",
       "    }\n",
       "</style>\n",
       "<table border=\"1\" class=\"dataframe\">\n",
       "  <thead>\n",
       "    <tr style=\"text-align: right;\">\n",
       "      <th></th>\n",
       "      <th>inputs</th>\n",
       "      <th>labels</th>\n",
       "    </tr>\n",
       "  </thead>\n",
       "  <tbody>\n",
       "    <tr>\n",
       "      <th>0</th>\n",
       "      <td>Bộ_trưởng Sitharaman phát_biểu tại buổi gặp_gỡ...</td>\n",
       "      <td>Bộ_trưởng Quốc_phòng Ấn_Độ bày_tỏ mong_muốn Vi...</td>\n",
       "    </tr>\n",
       "    <tr>\n",
       "      <th>1</th>\n",
       "      <td>Tổng_thống Pháp Emmanuel_Macron phấn_khích ăn_...</td>\n",
       "      <td>Sau màn ăn_mừng phấn_khích trên khán_đài , Emm...</td>\n",
       "    </tr>\n",
       "    <tr>\n",
       "      <th>2</th>\n",
       "      <td>Lực_lượng tuần_duyên Nhật_Bản đang nỗ_lực tìm_...</td>\n",
       "      <td>Một hòn đảo của Nhật nằm sát khu_vực tranh_chấ...</td>\n",
       "    </tr>\n",
       "    <tr>\n",
       "      <th>3</th>\n",
       "      <td>Cảnh_sát thành_phố Barcelona , Tây_Ban_Nha đã ...</td>\n",
       "      <td>Tình_báo Mỹ báo với cảnh_sát Tây_Ban_Nha về ng...</td>\n",
       "    </tr>\n",
       "    <tr>\n",
       "      <th>4</th>\n",
       "      <td>Trước_đây , khán_giả thấy rằng nghệ_sĩ Xuân_Hư...</td>\n",
       "      <td>Nghệ_sĩ Xuân_Hương và MC Thanh_Bạch đã từng đư...</td>\n",
       "    </tr>\n",
       "    <tr>\n",
       "      <th>...</th>\n",
       "      <td>...</td>\n",
       "      <td>...</td>\n",
       "    </tr>\n",
       "    <tr>\n",
       "      <th>24995</th>\n",
       "      <td>Ngày 7-6 , Đội quản_lý thị_trường số 17 Chi_cụ...</td>\n",
       "      <td>Lực_lượng quản_lý thị_trường đã tạm giữ hàng c...</td>\n",
       "    </tr>\n",
       "    <tr>\n",
       "      <th>24996</th>\n",
       "      <td>Ngày 17/6 , báo_cáo với UBND tỉnh Bình_Thuận v...</td>\n",
       "      <td>Công_ty khai_thác bơm nước về hồ nhưng không k...</td>\n",
       "    </tr>\n",
       "    <tr>\n",
       "      <th>24997</th>\n",
       "      <td>Kay_Longstaff , người phụ_nữ Anh sống_sót sau ...</td>\n",
       "      <td>Kay_Longstaff bị ngã khỏi tàu du_lịch khi đang...</td>\n",
       "    </tr>\n",
       "    <tr>\n",
       "      <th>24998</th>\n",
       "      <td>Tổng_thống Mỹ Donald_Trump trong một cuộc diễn...</td>\n",
       "      <td>Tổng_thống Mỹ tuyên_bố nếu có cuộc đấu quyền_a...</td>\n",
       "    </tr>\n",
       "    <tr>\n",
       "      <th>24999</th>\n",
       "      <td>Ngày 19-5 , một nguồn_tin của Tuổi_Trẻ Online ...</td>\n",
       "      <td>Lời khai của nhóm nghi_phạm cho_biết một trong...</td>\n",
       "    </tr>\n",
       "  </tbody>\n",
       "</table>\n",
       "<p>25000 rows × 2 columns</p>\n",
       "</div>"
      ],
      "text/plain": [
       "                                                  inputs   \n",
       "0      Bộ_trưởng Sitharaman phát_biểu tại buổi gặp_gỡ...  \\\n",
       "1      Tổng_thống Pháp Emmanuel_Macron phấn_khích ăn_...   \n",
       "2      Lực_lượng tuần_duyên Nhật_Bản đang nỗ_lực tìm_...   \n",
       "3      Cảnh_sát thành_phố Barcelona , Tây_Ban_Nha đã ...   \n",
       "4      Trước_đây , khán_giả thấy rằng nghệ_sĩ Xuân_Hư...   \n",
       "...                                                  ...   \n",
       "24995  Ngày 7-6 , Đội quản_lý thị_trường số 17 Chi_cụ...   \n",
       "24996  Ngày 17/6 , báo_cáo với UBND tỉnh Bình_Thuận v...   \n",
       "24997  Kay_Longstaff , người phụ_nữ Anh sống_sót sau ...   \n",
       "24998  Tổng_thống Mỹ Donald_Trump trong một cuộc diễn...   \n",
       "24999  Ngày 19-5 , một nguồn_tin của Tuổi_Trẻ Online ...   \n",
       "\n",
       "                                                  labels  \n",
       "0      Bộ_trưởng Quốc_phòng Ấn_Độ bày_tỏ mong_muốn Vi...  \n",
       "1      Sau màn ăn_mừng phấn_khích trên khán_đài , Emm...  \n",
       "2      Một hòn đảo của Nhật nằm sát khu_vực tranh_chấ...  \n",
       "3      Tình_báo Mỹ báo với cảnh_sát Tây_Ban_Nha về ng...  \n",
       "4      Nghệ_sĩ Xuân_Hương và MC Thanh_Bạch đã từng đư...  \n",
       "...                                                  ...  \n",
       "24995  Lực_lượng quản_lý thị_trường đã tạm giữ hàng c...  \n",
       "24996  Công_ty khai_thác bơm nước về hồ nhưng không k...  \n",
       "24997  Kay_Longstaff bị ngã khỏi tàu du_lịch khi đang...  \n",
       "24998  Tổng_thống Mỹ tuyên_bố nếu có cuộc đấu quyền_a...  \n",
       "24999  Lời khai của nhóm nghi_phạm cho_biết một trong...  \n",
       "\n",
       "[25000 rows x 2 columns]"
      ]
     },
     "execution_count": 8,
     "metadata": {},
     "output_type": "execute_result"
    }
   ],
   "source": [
    "df_train"
   ]
  },
  {
   "cell_type": "code",
   "execution_count": 9,
   "metadata": {},
   "outputs": [
    {
     "name": "stderr",
     "output_type": "stream",
     "text": [
      "Map (num_proc=8):   0%|          | 0/25000 [00:00<?, ? examples/s]/home/huynv/miniconda3/lib/python3.10/site-packages/transformers/tokenization_utils_base.py:3606: UserWarning: `as_target_tokenizer` is deprecated and will be removed in v5 of Transformers. You can tokenize your labels by using the argument `text_target` of the regular `__call__` method (either in the same call as your input texts if you use the same keyword arguments, or in a separate call.\n",
      "  warnings.warn(\n",
      "/home/huynv/miniconda3/lib/python3.10/site-packages/transformers/tokenization_utils_base.py:3606: UserWarning: `as_target_tokenizer` is deprecated and will be removed in v5 of Transformers. You can tokenize your labels by using the argument `text_target` of the regular `__call__` method (either in the same call as your input texts if you use the same keyword arguments, or in a separate call.\n",
      "  warnings.warn(\n",
      "Map (num_proc=8):   4%|▍         | 1000/25000 [00:04<01:42, 234.00 examples/s]/home/huynv/miniconda3/lib/python3.10/site-packages/transformers/tokenization_utils_base.py:3606: UserWarning: `as_target_tokenizer` is deprecated and will be removed in v5 of Transformers. You can tokenize your labels by using the argument `text_target` of the regular `__call__` method (either in the same call as your input texts if you use the same keyword arguments, or in a separate call.\n",
      "  warnings.warn(\n",
      "Map (num_proc=8):   8%|▊         | 2000/25000 [00:04<00:46, 492.66 examples/s]/home/huynv/miniconda3/lib/python3.10/site-packages/transformers/tokenization_utils_base.py:3606: UserWarning: `as_target_tokenizer` is deprecated and will be removed in v5 of Transformers. You can tokenize your labels by using the argument `text_target` of the regular `__call__` method (either in the same call as your input texts if you use the same keyword arguments, or in a separate call.\n",
      "  warnings.warn(\n",
      "/home/huynv/miniconda3/lib/python3.10/site-packages/transformers/tokenization_utils_base.py:3606: UserWarning: `as_target_tokenizer` is deprecated and will be removed in v5 of Transformers. You can tokenize your labels by using the argument `text_target` of the regular `__call__` method (either in the same call as your input texts if you use the same keyword arguments, or in a separate call.\n",
      "  warnings.warn(\n",
      "/home/huynv/miniconda3/lib/python3.10/site-packages/transformers/tokenization_utils_base.py:3606: UserWarning: `as_target_tokenizer` is deprecated and will be removed in v5 of Transformers. You can tokenize your labels by using the argument `text_target` of the regular `__call__` method (either in the same call as your input texts if you use the same keyword arguments, or in a separate call.\n",
      "  warnings.warn(\n",
      "Map (num_proc=8):  12%|█▏        | 3000/25000 [00:05<00:27, 804.03 examples/s]/home/huynv/miniconda3/lib/python3.10/site-packages/transformers/tokenization_utils_base.py:3606: UserWarning: `as_target_tokenizer` is deprecated and will be removed in v5 of Transformers. You can tokenize your labels by using the argument `text_target` of the regular `__call__` method (either in the same call as your input texts if you use the same keyword arguments, or in a separate call.\n",
      "  warnings.warn(\n",
      "Map (num_proc=8):  16%|█▌        | 4000/25000 [00:05<00:18, 1136.30 examples/s]/home/huynv/miniconda3/lib/python3.10/site-packages/transformers/tokenization_utils_base.py:3606: UserWarning: `as_target_tokenizer` is deprecated and will be removed in v5 of Transformers. You can tokenize your labels by using the argument `text_target` of the regular `__call__` method (either in the same call as your input texts if you use the same keyword arguments, or in a separate call.\n",
      "  warnings.warn(\n",
      "                                                                                \r"
     ]
    }
   ],
   "source": [
    "dataset = Dataset.from_pandas(df_train)\n",
    "tokenized_datasets = dataset.map(preprocess_function, batched=True, remove_columns=['inputs'], num_proc=8)"
   ]
  },
  {
   "cell_type": "code",
   "execution_count": 10,
   "metadata": {},
   "outputs": [],
   "source": [
    "\n",
    "data_collator = DataCollatorForSeq2Seq(tokenizer, model=model, return_tensors=\"pt\")\n",
    "\n",
    "\n",
    "training_args = Seq2SeqTrainingArguments(checkpoint_folder,\n",
    "                                      do_train=True,\n",
    "                                      do_eval=False,\n",
    "                                      num_train_epochs=2,\n",
    "                                      learning_rate=1e-5,\n",
    "                                      warmup_ratio=0.05,\n",
    "                                      weight_decay=0.01,\n",
    "                                      per_device_train_batch_size=1,\n",
    "                                      per_device_eval_batch_size=1,\n",
    "                                      logging_dir='./log',\n",
    "                                      group_by_length=True,\n",
    "                                      save_strategy=\"epoch\",\n",
    "                                      save_total_limit=3,\n",
    "                                    #   remove_unused_columns=False,\n",
    "                                      #eval_steps=1,\n",
    "                                      #evaluation_strategy=\"steps\",\n",
    "                                      # evaluation_strategy=\"no\",\n",
    "                                      fp16=True,\n",
    "                                      )\n",
    "\n"
   ]
  },
  {
   "cell_type": "code",
   "execution_count": 11,
   "metadata": {},
   "outputs": [],
   "source": [
    "trainer = Seq2SeqTrainer(\n",
    "    model=model,\n",
    "    args=training_args,\n",
    "    train_dataset=tokenized_datasets,\n",
    "    data_collator=data_collator,\n",
    ")\n",
    "\n",
    "trainer.train()"
   ]
  }
 ],
 "metadata": {
  "kernelspec": {
   "display_name": "base",
   "language": "python",
   "name": "python3"
  },
  "language_info": {
   "codemirror_mode": {
    "name": "ipython",
    "version": 3
   },
   "file_extension": ".py",
   "mimetype": "text/x-python",
   "name": "python",
   "nbconvert_exporter": "python",
   "pygments_lexer": "ipython3",
   "version": "3.8.8"
  },
  "orig_nbformat": 4
 },
 "nbformat": 4,
 "nbformat_minor": 2
}
