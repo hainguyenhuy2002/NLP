{
  "cells": [
    {
      "cell_type": "code",
      "execution_count": 1,
      "metadata": {
        "id": "EyJ9pawPH9SX"
      },
      "outputs": [],
      "source": [
        "import pandas as pd\n",
        "import numpy as np\n",
        "import matplotlib.pyplot as plt\n",
        "import string\n",
        "import re\n",
        "from tqdm import tqdm\n",
        "import random\n",
        "from vietnam_number import n2w"
      ]
    },
    {
      "cell_type": "code",
      "execution_count": 2,
      "metadata": {},
      "outputs": [],
      "source": [
        "def cleaner(text: str):\n",
        "    text = text.strip()\n",
        "    text = text.lower()\n",
        "    text = re.sub(r'(\\d{1,})h(\\d{1,})', r'\\1 giờ \\2 phút', text)\n",
        "    text = re.sub(r'(\\d{1,})/(\\d{,2})', r'\\1 tháng \\2', text)\n",
        "    text = re.sub(r'(\\d{1,})/(\\d{3,})', r'\\1 năm \\2', text)\n",
        "    text = re.sub(r'[^\\w\\s._,]', ' ', text)\n",
        "    text = re.sub(r'(\\d)\\.(\\d)', r'\\1\\2', text)\n",
        "    text = re.sub(r'\\.{1,}', '.', text)\n",
        "    text = re.sub(r'\\,{1,}', ',', text)\n",
        "    text = re.sub(r'(\\d{1,})([^\\W\\d]{1,})', r'\\1 \\2', text)\n",
        "    text = re.sub(r'([^\\W\\d]{1,})(\\d{1,})', r'\\1 \\2', text)\n",
        "    text = re.sub(r'(\\s)(\\_)(\\w*)', r'\\1\\3', text)\n",
        "    text = text.replace('.', ' . ')\n",
        "    text = text.replace(',', ' , ')\n",
        "    words = text.split()\n",
        "    text = ' '.join(words)\n",
        "    return text"
      ]
    },
    {
      "cell_type": "code",
      "execution_count": 3,
      "metadata": {
        "id": "2wmOaZzSK8ph"
      },
      "outputs": [],
      "source": [
        "def clean_and_extract(data_path, extract_path):\n",
        "    print(f'Read file {data_path}')\n",
        "    data = pd.read_csv(data_path).drop([\"Unnamed: 0\", \"file\"], axis=1)\n",
        "    data_name = data_path.split('/')[-1].split('.')[0]\n",
        "    print(f'Clean {data_name}')\n",
        "    tqdm.pandas()\n",
        "    for column in data.columns:\n",
        "        print(f'Clean column {column}: ', end='')\n",
        "        data[column] = data[column].progress_apply(cleaner)\n",
        "    data.to_csv(extract_path, index=False)\n",
        "    print(f'Save data to {extract_path}')"
      ]
    },
    {
      "cell_type": "code",
      "execution_count": 27,
      "metadata": {},
      "outputs": [
        {
          "data": {
            "text/html": [
              "<div>\n",
              "<style scoped>\n",
              "    .dataframe tbody tr th:only-of-type {\n",
              "        vertical-align: middle;\n",
              "    }\n",
              "\n",
              "    .dataframe tbody tr th {\n",
              "        vertical-align: top;\n",
              "    }\n",
              "\n",
              "    .dataframe thead th {\n",
              "        text-align: right;\n",
              "    }\n",
              "</style>\n",
              "<table border=\"1\" class=\"dataframe\">\n",
              "  <thead>\n",
              "    <tr style=\"text-align: right;\">\n",
              "      <th></th>\n",
              "      <th>original</th>\n",
              "      <th>summary</th>\n",
              "    </tr>\n",
              "  </thead>\n",
              "  <tbody>\n",
              "    <tr>\n",
              "      <th>0</th>\n",
              "      <td>bộ_trưởng sitharaman phát_biểu tại buổi gặp_gỡ...</td>\n",
              "      <td>bộ_trưởng quốc_phòng ấn_độ bày_tỏ mong_muốn vi...</td>\n",
              "    </tr>\n",
              "    <tr>\n",
              "      <th>1</th>\n",
              "      <td>tổng_thống pháp emmanuel_macron phấn_khích ăn_...</td>\n",
              "      <td>sau màn ăn_mừng phấn_khích trên khán_đài , emm...</td>\n",
              "    </tr>\n",
              "    <tr>\n",
              "      <th>2</th>\n",
              "      <td>lực_lượng tuần_duyên nhật_bản đang nỗ_lực tìm_...</td>\n",
              "      <td>một hòn đảo của nhật nằm sát khu_vực tranh_chấ...</td>\n",
              "    </tr>\n",
              "    <tr>\n",
              "      <th>3</th>\n",
              "      <td>cảnh_sát thành_phố barcelona , tây_ban_nha đã ...</td>\n",
              "      <td>tình_báo mỹ báo với cảnh_sát tây_ban_nha về ng...</td>\n",
              "    </tr>\n",
              "    <tr>\n",
              "      <th>4</th>\n",
              "      <td>trước_đây , khán_giả thấy rằng nghệ_sĩ xuân_hư...</td>\n",
              "      <td>nghệ_sĩ xuân_hương và mc thanh_bạch đã từng đư...</td>\n",
              "    </tr>\n",
              "  </tbody>\n",
              "</table>\n",
              "</div>"
            ],
            "text/plain": [
              "                                            original   \n",
              "0  bộ_trưởng sitharaman phát_biểu tại buổi gặp_gỡ...  \\\n",
              "1  tổng_thống pháp emmanuel_macron phấn_khích ăn_...   \n",
              "2  lực_lượng tuần_duyên nhật_bản đang nỗ_lực tìm_...   \n",
              "3  cảnh_sát thành_phố barcelona , tây_ban_nha đã ...   \n",
              "4  trước_đây , khán_giả thấy rằng nghệ_sĩ xuân_hư...   \n",
              "\n",
              "                                             summary  \n",
              "0  bộ_trưởng quốc_phòng ấn_độ bày_tỏ mong_muốn vi...  \n",
              "1  sau màn ăn_mừng phấn_khích trên khán_đài , emm...  \n",
              "2  một hòn đảo của nhật nằm sát khu_vực tranh_chấ...  \n",
              "3  tình_báo mỹ báo với cảnh_sát tây_ban_nha về ng...  \n",
              "4  nghệ_sĩ xuân_hương và mc thanh_bạch đã từng đư...  "
            ]
          },
          "execution_count": 27,
          "metadata": {},
          "output_type": "execute_result"
        }
      ],
      "source": [
        "data = pd.read_csv('/home/phongtt/ATS/vietnews_clean_train.csv')\n",
        "data.head()"
      ]
    },
    {
      "cell_type": "code",
      "execution_count": 4,
      "metadata": {},
      "outputs": [
        {
          "name": "stdout",
          "output_type": "stream",
          "text": [
            "Read file /home/phongtt/ATS/vietnews_train.csv\n",
            "Clean vietnews_train\n",
            "Clean column original: "
          ]
        },
        {
          "name": "stderr",
          "output_type": "stream",
          "text": [
            "100%|██████████| 105418/105418 [01:13<00:00, 1431.80it/s]\n"
          ]
        },
        {
          "name": "stdout",
          "output_type": "stream",
          "text": [
            "Clean column summary: "
          ]
        },
        {
          "name": "stderr",
          "output_type": "stream",
          "text": [
            "100%|██████████| 105418/105418 [00:06<00:00, 16444.19it/s]\n"
          ]
        },
        {
          "name": "stdout",
          "output_type": "stream",
          "text": [
            "Save data to ./dataset/vietnews_clean_train.csv\n",
            "Read file /home/phongtt/ATS/vietnews_val.csv\n",
            "Clean vietnews_val\n",
            "Clean column original: "
          ]
        },
        {
          "name": "stderr",
          "output_type": "stream",
          "text": [
            "100%|██████████| 22642/22642 [00:16<00:00, 1407.05it/s]\n"
          ]
        },
        {
          "name": "stdout",
          "output_type": "stream",
          "text": [
            "Clean column summary: "
          ]
        },
        {
          "name": "stderr",
          "output_type": "stream",
          "text": [
            "100%|██████████| 22642/22642 [00:01<00:00, 16069.88it/s]\n"
          ]
        },
        {
          "name": "stdout",
          "output_type": "stream",
          "text": [
            "Save data to ./dataset/vietnews_clean_val.csv\n",
            "Read file /home/phongtt/ATS/vietnews_test.csv\n",
            "Clean vietnews_test\n",
            "Clean column original: "
          ]
        },
        {
          "name": "stderr",
          "output_type": "stream",
          "text": [
            "100%|██████████| 22644/22644 [00:15<00:00, 1433.86it/s]\n"
          ]
        },
        {
          "name": "stdout",
          "output_type": "stream",
          "text": [
            "Clean column summary: "
          ]
        },
        {
          "name": "stderr",
          "output_type": "stream",
          "text": [
            "100%|██████████| 22644/22644 [00:01<00:00, 16710.82it/s]\n"
          ]
        },
        {
          "name": "stdout",
          "output_type": "stream",
          "text": [
            "Save data to ./dataset/vietnews_clean_test.csv\n"
          ]
        }
      ],
      "source": [
        "clean_and_extract('/home/phongtt/ATS/vietnews_train.csv', './dataset/vietnews_clean_train.csv')\n",
        "clean_and_extract('/home/phongtt/ATS/vietnews_val.csv', './dataset/vietnews_clean_val.csv')\n",
        "clean_and_extract('/home/phongtt/ATS/vietnews_test.csv', './dataset/vietnews_clean_test.csv')"
      ]
    }
  ],
  "metadata": {
    "colab": {
      "gpuType": "T4",
      "provenance": []
    },
    "gpuClass": "standard",
    "kernelspec": {
      "display_name": "Python 3",
      "name": "python3"
    },
    "language_info": {
      "codemirror_mode": {
        "name": "ipython",
        "version": 3
      },
      "file_extension": ".py",
      "mimetype": "text/x-python",
      "name": "python",
      "nbconvert_exporter": "python",
      "pygments_lexer": "ipython3",
      "version": "3.10.10"
    }
  },
  "nbformat": 4,
  "nbformat_minor": 0
}
